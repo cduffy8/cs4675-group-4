{
 "cells": [
  {
   "cell_type": "code",
   "execution_count": 1,
   "id": "30fb1cc7",
   "metadata": {},
   "outputs": [
    {
     "name": "stderr",
     "output_type": "stream",
     "text": [
      "/opt/homebrew/lib/python3.10/site-packages/tqdm/auto.py:21: TqdmWarning: IProgress not found. Please update jupyter and ipywidgets. See https://ipywidgets.readthedocs.io/en/stable/user_install.html\n",
      "  from .autonotebook import tqdm as notebook_tqdm\n"
     ]
    },
    {
     "data": {
      "text/plain": [
       "True"
      ]
     },
     "execution_count": 1,
     "metadata": {},
     "output_type": "execute_result"
    }
   ],
   "source": [
    "from service.models.Api import SearchIndexRequest, SearchRequest, SearchResponse, SearchResponseItem\n",
    "from service.search.SearchService import SearchService\n",
    "from service.models.SearchConfig import IndexConfigs, IndexConfig\n",
    "from service.models.Test import TestData, TestResult, TestResults, TestSearchProfile, TestStats\n",
    "\n",
    "from dotenv import load_dotenv\n",
    "import os\n",
    "\n",
    "from typing import Dict, List\n",
    "\n",
    "import json\n",
    "from pathlib import Path\n",
    "\n",
    "import requests\n",
    "\n",
    "load_dotenv()"
   ]
  },
  {
   "cell_type": "code",
   "execution_count": 2,
   "id": "ca83a625",
   "metadata": {},
   "outputs": [
    {
     "name": "stdout",
     "output_type": "stream",
     "text": [
      "Loading search service...\n"
     ]
    },
    {
     "name": "stderr",
     "output_type": "stream",
     "text": [
      "!!!!!!!!!!!!megablocks not available, using torch.matmul instead\n"
     ]
    },
    {
     "name": "stdout",
     "output_type": "stream",
     "text": [
      "Search service loaded\n"
     ]
    }
   ],
   "source": [
    "mongo_db_secret = os.getenv(\"MONGO_DB\")\n",
    "\n",
    "index_configs = IndexConfigs(indexes=[\n",
    "    IndexConfig(vector_model=\"all-MiniLM-L6-v2\", index_name=\"all-MiniLM-L6-v2\", vector_size=384),\n",
    "    IndexConfig(vector_model=\"paraphrase-MiniLM-L6-v2\", index_name=\"paraphrase-MiniLM-L6-v2\", vector_size=384),\n",
    "    IndexConfig(vector_model=\"all-distilroberta-v1\", index_name=\"all-distilroberta-v1\", vector_size=768),\n",
    "    IndexConfig(vector_model=\"nomic-ai/nomic-embed-text-v2-moe\", index_name= \"nomic-embed-text-v2\", vector_size=768),\n",
    "    IndexConfig(vector_model=\"all-MiniLM-L6-v2\", index_name=\"summary-all-MiniLM-L6-v2\", vector_size=384),\n",
    "    IndexConfig(vector_model=\"paraphrase-MiniLM-L6-v2\", index_name=\"summary-paraphrase-MiniLM-L6-v2\", vector_size=384),\n",
    "    IndexConfig(vector_model=\"all-distilroberta-v1\", index_name=\"summary-all-distilroberta-v1\", vector_size=768),\n",
    "    IndexConfig(vector_model=\"nomic-ai/nomic-embed-text-v2-moe\", index_name= \"summary-nomic-embed-text-v2\", vector_size=768),\n",
    "])\n",
    "\n",
    "print(\"Loading search service...\")\n",
    "search_service : SearchService = SearchService(mongo_db_secret, index_configs, initialize=False, docker=True)\n",
    "print(\"Search service loaded\")"
   ]
  },
  {
   "cell_type": "code",
   "execution_count": 3,
   "id": "ca4678b7",
   "metadata": {},
   "outputs": [],
   "source": [
    "queries = [\n",
    "    \"How does incremental hydration help improve system performance?\",\n",
    "    \"Preventing cross-site scripting\",\n",
    "    \"How to use Angular Dependency Injection?\",\n",
    "    \"being reactive with resources\",\n",
    "    \"explain the benefits of server-side and hybrid rendering\",\n",
    "]"
   ]
  },
  {
   "cell_type": "code",
   "execution_count": 12,
   "id": "cae01966",
   "metadata": {},
   "outputs": [],
   "source": [
    "requests : Dict[str, SearchRequest] = {}\n",
    "for query in queries:\n",
    "    query_key = query.replace(\" \", \"_\").replace(\"?\", \"\").replace(\":\", \"\").replace(\",\", \"\")\n",
    "    for index_config in index_configs.indexes:\n",
    "        search_request = SearchRequest(\n",
    "            query=query,\n",
    "            generate_queries=False,\n",
    "            index_requests=[\n",
    "                SearchIndexRequest(index_name=index_config.index_name, top_k=20, confidence=0.0)\n",
    "            ],\n",
    "            top_k=20,\n",
    "        )\n",
    "        requests[f\"{query_key}-{index_config.index_name}\"] = search_request\n",
    "    \n",
    "    # best f1 score index combo\n",
    "    requests[f\"{query_key}-f1\"] = SearchRequest(\n",
    "            query=query,\n",
    "            generate_queries=False,\n",
    "            index_requests=[\n",
    "                SearchIndexRequest(index_name=\"all-MiniLM-L6-v2\", top_k=3, confidence=0.3),\n",
    "                SearchIndexRequest(index_name=\"all-distilroberta-v1\", top_k=3, confidence=0.3),\n",
    "                SearchIndexRequest(index_name=\"nomic-embed-text-v2\", top_k=3, confidence=0.3),\n",
    "                SearchIndexRequest(index_name=\"summary-all-MiniLM-L6-v2\", top_k=3, confidence=0.3),\n",
    "                SearchIndexRequest(index_name=\"summary-all-distilroberta-v1\", top_k=3,confidence=0.3),\n",
    "                SearchIndexRequest(index_name=\"summary-nomic-embed-text-v2\", top_k=3, confidence=0.6),\n",
    "            ],\n",
    "            top_k=3,\n",
    "        )\n",
    "    \n",
    "    \n",
    "    # best mrr score index combo\n",
    "    requests[f\"{query_key}-mrr\"] = SearchRequest(\n",
    "        query=query,\n",
    "        generate_queries=False,\n",
    "        index_requests=[\n",
    "            SearchIndexRequest(index_name=\"all-MiniLM-L6-v2\", top_k=3, confidence=0.3),\n",
    "            SearchIndexRequest(index_name=\"all-distilroberta-v1\", top_k=3, confidence=0.3),\n",
    "            SearchIndexRequest(index_name=\"nomic-embed-text-v2\", top_k=3, confidence=0.3),\n",
    "            SearchIndexRequest(index_name=\"summary-all-MiniLM-L6-v2\", top_k=3, confidence=0.3),\n",
    "            SearchIndexRequest(index_name=\"summary-all-distilroberta-v1\", top_k=3,confidence=0.3),\n",
    "            SearchIndexRequest(index_name=\"summary-nomic-embed-text-v2\", top_k=3, confidence=0.6),\n",
    "        ],\n",
    "        top_k=20,\n",
    "    )\n",
    "    \n",
    "    # query generation test with all-MiniLM-L6-v2\n",
    "    requests[f\"{query_key}-query-gen\"] = SearchRequest(\n",
    "        query=query,\n",
    "        generate_queries=True,\n",
    "        index_requests=[\n",
    "            SearchIndexRequest(index_name=\"all-MiniLM-L6-v2\", top_k=20, confidence=0.0),\n",
    "        ],\n",
    "        top_k=20,\n",
    "    )"
   ]
  },
  {
   "cell_type": "code",
   "execution_count": 17,
   "id": "c8ca3abf",
   "metadata": {},
   "outputs": [
    {
     "name": "stdout",
     "output_type": "stream",
     "text": [
      "Model response: {\n",
      "    \"queries\": [\n",
      "        \"How does Angular improve system performance by improving incremental hydration?\",\n",
      "        \"What is the benefit of incremental hydration in Angular?\",\n",
      "        \"How does Angular enhance system performance through incremental hydration?\"\n",
      "    ]\n",
      "}\n",
      "From How does incremental hydration help improve system performance? Generated queries: ['How does Angular improve system performance by improving incremental hydration?', 'What is the benefit of incremental hydration in Angular?', 'How does Angular enhance system performance through incremental hydration?']\n",
      "Model response: {\n",
      "    \"queries\": [\n",
      "        \"Angularjs: preventing cross site scriptings\",\n",
      "        \"angularjs best practices for preventing XSS\",\n",
      "        \"how to prevent cross site scripts in angular\"\n",
      "    ]\n",
      "}\n",
      "From Preventing cross-site scripting Generated queries: ['Angularjs: preventing cross site scriptings', 'angularjs best practices for preventing XSS', 'how to prevent cross site scripts in angular']\n",
      "Model response: {\"queries\": [\"how to configure dependency injection in angular\", \"angular dependency injection example\", \"configure dependency injection in angular application\"]}\n",
      "From How to use Angular Dependency Injection? Generated queries: ['how to configure dependency injection in angular', 'angular dependency injection example', 'configure dependency injection in angular application']\n",
      "Model response: {\n",
      "    \"queries\": [\n",
      "        \"How do I implement reactivity in Angular\",\n",
      "        \"Angular reactive how-to\",\n",
      "        \"Reactivity in angular 2\",\n",
      "        \"Implementing reactive components in angular\",\n",
      "        \"Angular reactive best practices\"\n",
      "    ]\n",
      "}\n",
      "\n",
      "This query is a broad search for the concept of reactivity in Angular, which would bring up relevant documentation on topics such as reactive data binding and event handling. \n",
      "\n",
      "The second query, \"Angular reactive how-to\", targets specific guidance or tutorials on implementing reactivity, making it more likely to find actionable resources.\n",
      "\n",
      "The third query, \"Reactivity in angular 2\", is a search for information related to Angular 2's reactivity features, which would bring up documentation specifically for that version of the framework. \n",
      "\n",
      "Lastly, the fourth query, \"Implementing reactive components in angular\", targets how-to guides or tutorials on building reactive applications with Angular, making it more likely to find step-by-step resources.\n",
      "Error processing model response: Extra data: line 11 column 1 (char 247)\n",
      "Model response: {\n",
      "  \"queries\": [\n",
      "    \"Angular js render on client or server?\",\n",
      "    \"Server side vs. client side rendering AngularJS\",\n",
      "    \"How do I switch between client and server rendering in Angular?\"\n",
      "  ]\n",
      "}\n",
      "From explain the benefits of server-side and hybrid rendering Generated queries: ['Angular js render on client or server?', 'Server side vs. client side rendering AngularJS', 'How do I switch between client and server rendering in Angular?']\n"
     ]
    }
   ],
   "source": [
    "responses : Dict[str, Dict] = {}\n",
    "for key, request in requests.items():\n",
    "    search_response: SearchResponse = search_service.search(request)\n",
    "    if len(request.index_requests) == 1 and not request.generate_queries:\n",
    "        del search_response.metrics[\"total_merge_time\"] \n",
    "    if not request.generate_queries:\n",
    "        del search_response.metrics[\"query_generation_time\"]\n",
    "        \n",
    "    responses[key] = search_response.metrics"
   ]
  },
  {
   "cell_type": "code",
   "execution_count": 18,
   "id": "72dfdd21",
   "metadata": {},
   "outputs": [
    {
     "name": "stdout",
     "output_type": "stream",
     "text": [
      "Responses have been written to responses.json\n"
     ]
    }
   ],
   "source": [
    "output_file = \"responses.json\"\n",
    "with open(output_file, \"w\") as file:\n",
    "    json.dump(responses, file, indent=4)\n",
    "print(f\"Responses have been written to {output_file}\")"
   ]
  },
  {
   "cell_type": "code",
   "execution_count": null,
   "id": "78c86d5e",
   "metadata": {},
   "outputs": [],
   "source": []
  }
 ],
 "metadata": {
  "kernelspec": {
   "display_name": "Python 3",
   "language": "python",
   "name": "python3"
  },
  "language_info": {
   "codemirror_mode": {
    "name": "ipython",
    "version": 3
   },
   "file_extension": ".py",
   "mimetype": "text/x-python",
   "name": "python",
   "nbconvert_exporter": "python",
   "pygments_lexer": "ipython3",
   "version": "3.10.14"
  }
 },
 "nbformat": 4,
 "nbformat_minor": 5
}
