{
 "cells": [
  {
   "cell_type": "code",
   "execution_count": null,
   "metadata": {},
   "outputs": [],
   "source": [
    "import json\n",
    "import uuid\n",
    "\n",
    "def get_data():\n",
    "    # Read the data.json file\n",
    "    with open('data.json', 'r') as file:\n",
    "        data = json.load(file)\n",
    "    return data\n",
    "    \n",
    "def add_test_data(query: str, answers: list):\n",
    "    new_entry = {\n",
    "        \"testId\": str(uuid.uuid4()),\n",
    "        \"query\": query,\n",
    "        \"answers\": answers\n",
    "    }\n",
    "    \n",
    "    data = get_data()\n",
    "    \n",
    "    if any(entry[\"query\"] == query and entry[\"answers\"] == answers for entry in data):\n",
    "        print(\"Entry already exists in data.json.\")\n",
    "        return  # Exit the function if an exact match is found\n",
    "    \n",
    "    data.append(new_entry)\n",
    "    \n",
    "    with open('data.json', 'w') as file:\n",
    "        json.dump(data, file, indent=4)"
   ]
  },
  {
   "cell_type": "code",
   "execution_count": 13,
   "metadata": {},
   "outputs": [
    {
     "name": "stdout",
     "output_type": "stream",
     "text": [
      "Entry already exists in data.json.\n"
     ]
    }
   ],
   "source": [
    "add_test_data(\"read in cookies from requests\", [\"22978d4b-c735-482b-8385-a7c3f47cc721\", \"5cf6559b-1033-4164-a916-a6a44738a1b1\", \"12110a3f-1785-43d8-9c9c-983a51550041\"])\n",
    "\n",
    "# note: 6a8a0498-0a72-41b3-a6e5-97b15ae92bdc is duplicated as c15c7c21-0a16-4054-a638-14d16e04d4ed\n"
   ]
  }
 ],
 "metadata": {
  "kernelspec": {
   "display_name": "Python 3",
   "language": "python",
   "name": "python3"
  },
  "language_info": {
   "codemirror_mode": {
    "name": "ipython",
    "version": 3
   },
   "file_extension": ".py",
   "mimetype": "text/x-python",
   "name": "python",
   "nbconvert_exporter": "python",
   "pygments_lexer": "ipython3",
   "version": "3.10.14"
  }
 },
 "nbformat": 4,
 "nbformat_minor": 2
}
