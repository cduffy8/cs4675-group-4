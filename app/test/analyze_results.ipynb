{
 "cells": [
  {
   "cell_type": "code",
   "execution_count": 1,
   "id": "a0cd2651",
   "metadata": {},
   "outputs": [
    {
     "name": "stdout",
     "output_type": "stream",
     "text": [
      "Requirement already satisfied: numpy in /opt/homebrew/lib/python3.10/site-packages (2.1.0)\n",
      "Collecting pandas\n",
      "  Downloading pandas-2.2.3-cp310-cp310-macosx_11_0_arm64.whl.metadata (89 kB)\n",
      "Requirement already satisfied: python-dateutil>=2.8.2 in /Users/cduffy/Library/Python/3.10/lib/python/site-packages (from pandas) (2.9.0.post0)\n",
      "Collecting pytz>=2020.1 (from pandas)\n",
      "  Downloading pytz-2025.2-py2.py3-none-any.whl.metadata (22 kB)\n",
      "Collecting tzdata>=2022.7 (from pandas)\n",
      "  Downloading tzdata-2025.2-py2.py3-none-any.whl.metadata (1.4 kB)\n",
      "Requirement already satisfied: six>=1.5 in /Users/cduffy/Library/Python/3.10/lib/python/site-packages (from python-dateutil>=2.8.2->pandas) (1.16.0)\n",
      "Downloading pandas-2.2.3-cp310-cp310-macosx_11_0_arm64.whl (11.3 MB)\n",
      "\u001b[2K   \u001b[90m━━━━━━━━━━━━━━━━━━━━━━━━━━━━━━━━━━━━━━━━\u001b[0m \u001b[32m11.3/11.3 MB\u001b[0m \u001b[31m51.7 MB/s\u001b[0m eta \u001b[36m0:00:00\u001b[0ma \u001b[36m0:00:01\u001b[0m\n",
      "\u001b[?25hDownloading pytz-2025.2-py2.py3-none-any.whl (509 kB)\n",
      "Downloading tzdata-2025.2-py2.py3-none-any.whl (347 kB)\n",
      "Installing collected packages: pytz, tzdata, pandas\n",
      "Successfully installed pandas-2.2.3 pytz-2025.2 tzdata-2025.2\n"
     ]
    }
   ],
   "source": [
    "!pip install numpy pandas"
   ]
  },
  {
   "cell_type": "code",
   "execution_count": 42,
   "id": "9a7f5748",
   "metadata": {},
   "outputs": [
    {
     "name": "stdout",
     "output_type": "stream",
     "text": [
      "Index(['total_percision', 'total_recall', 'total_f1_score',\n",
      "       'total_reciprocal_rank', 'total_hard_percision', 'total_hard_recall',\n",
      "       'total_hard_f1_score', 'total_hard_reciprocal_rank',\n",
      "       'total_easy_percision', 'total_easy_recall', 'total_easy_f1_score',\n",
      "       'total_easy_reciprocal_rank', 'profile_name', 'index_requests', 'top_k',\n",
      "       'merge_method'],\n",
      "      dtype='object')\n"
     ]
    }
   ],
   "source": [
    "import numpy as np\n",
    "import pandas as pd\n",
    "import os\n",
    "\n",
    "# read in the stats.json file\n",
    "stats = pd.read_json('stats.json')\n",
    "\n",
    "# Flatten the 'profile' column into its own columns\n",
    "profile_df = stats['profile'].apply(pd.Series)\n",
    "\n",
    "# Merge the flattened columns back into the original dataframe\n",
    "stats = pd.concat([stats.drop(columns=['profile']), profile_df], axis=1)\n",
    "\n",
    "print(stats.columns)"
   ]
  },
  {
   "cell_type": "code",
   "execution_count": 43,
   "id": "4ea7e1a3",
   "metadata": {},
   "outputs": [
    {
     "name": "stdout",
     "output_type": "stream",
     "text": [
      "                        profile_name  total_recall\n",
      "13      BASE 50 all-MiniLM-L6-v2 0.3      0.642202\n",
      "12      BASE 50 all-MiniLM-L6-v2 0.2      0.642202\n",
      "14      BASE 50 all-MiniLM-L6-v2 0.4      0.642202\n",
      "15      BASE 50 all-MiniLM-L6-v2 0.5      0.623853\n",
      "66   BASE 50 nomic-embed-text-v2 0.2      0.596330\n",
      "67   BASE 50 nomic-embed-text-v2 0.3      0.596330\n",
      "68   BASE 50 nomic-embed-text-v2 0.4      0.596330\n",
      "69   BASE 50 nomic-embed-text-v2 0.5      0.568807\n",
      "48  BASE 50 all-distilroberta-v1 0.2      0.513761\n",
      "50  BASE 50 all-distilroberta-v1 0.4      0.513761\n",
      "49  BASE 50 all-distilroberta-v1 0.3      0.513761\n",
      "7       BASE 20 all-MiniLM-L6-v2 0.3      0.504587\n",
      "6       BASE 20 all-MiniLM-L6-v2 0.2      0.504587\n",
      "8       BASE 20 all-MiniLM-L6-v2 0.4      0.504587\n",
      "9       BASE 20 all-MiniLM-L6-v2 0.5      0.495413\n",
      "63   BASE 20 nomic-embed-text-v2 0.5      0.467890\n",
      "60   BASE 20 nomic-embed-text-v2 0.2      0.467890\n",
      "62   BASE 20 nomic-embed-text-v2 0.4      0.467890\n",
      "61   BASE 20 nomic-embed-text-v2 0.3      0.467890\n",
      "16      BASE 50 all-MiniLM-L6-v2 0.6      0.458716\n"
     ]
    }
   ],
   "source": [
    "stats = stats.sort_values(by='total_recall', ascending=False)\n",
    "print(stats[['profile_name', 'total_recall']].head(20))"
   ]
  },
  {
   "cell_type": "code",
   "execution_count": 39,
   "id": "a0b4bd50",
   "metadata": {},
   "outputs": [
    {
     "name": "stdout",
     "output_type": "stream",
     "text": [
      "                       profile_name  total_reciprocal_rank\n",
      "66  BASE 50 nomic-embed-text-v2 0.2               0.296919\n",
      "68  BASE 50 nomic-embed-text-v2 0.4               0.296919\n",
      "67  BASE 50 nomic-embed-text-v2 0.3               0.296919\n",
      "69  BASE 50 nomic-embed-text-v2 0.5               0.296097\n",
      "63  BASE 20 nomic-embed-text-v2 0.5               0.292173\n",
      "60  BASE 20 nomic-embed-text-v2 0.2               0.292173\n",
      "61  BASE 20 nomic-embed-text-v2 0.3               0.292173\n",
      "62  BASE 20 nomic-embed-text-v2 0.4               0.292173\n",
      "55  BASE 10 nomic-embed-text-v2 0.3               0.292082\n",
      "57  BASE 10 nomic-embed-text-v2 0.5               0.292082\n",
      "54  BASE 10 nomic-embed-text-v2 0.2               0.292082\n",
      "56  BASE 10 nomic-embed-text-v2 0.4               0.292082\n",
      "70  BASE 50 nomic-embed-text-v2 0.6               0.275723\n",
      "58  BASE 10 nomic-embed-text-v2 0.6               0.273700\n",
      "64  BASE 20 nomic-embed-text-v2 0.6               0.273252\n",
      "6      BASE 20 all-MiniLM-L6-v2 0.2               0.270892\n",
      "7      BASE 20 all-MiniLM-L6-v2 0.3               0.270892\n",
      "8      BASE 20 all-MiniLM-L6-v2 0.4               0.270892\n",
      "9      BASE 20 all-MiniLM-L6-v2 0.5               0.270280\n",
      "14     BASE 50 all-MiniLM-L6-v2 0.4               0.266884\n"
     ]
    }
   ],
   "source": [
    "stats = stats.sort_values(by='total_reciprocal_rank', ascending=False)\n",
    "print(stats[['profile_name', 'total_reciprocal_rank']].head(20))"
   ]
  },
  {
   "cell_type": "code",
   "execution_count": 40,
   "id": "67a5b5b3",
   "metadata": {},
   "outputs": [
    {
     "name": "stdout",
     "output_type": "stream",
     "text": [
      "                        profile_name  total_f1_score\n",
      "58   BASE 10 nomic-embed-text-v2 0.6        0.166121\n",
      "64   BASE 20 nomic-embed-text-v2 0.6        0.164936\n",
      "70   BASE 50 nomic-embed-text-v2 0.6        0.162553\n",
      "4       BASE 10 all-MiniLM-L6-v2 0.6        0.149753\n",
      "10      BASE 20 all-MiniLM-L6-v2 0.6        0.148435\n",
      "16      BASE 50 all-MiniLM-L6-v2 0.6        0.145263\n",
      "17      BASE 50 all-MiniLM-L6-v2 0.7        0.122990\n",
      "5       BASE 10 all-MiniLM-L6-v2 0.7        0.122630\n",
      "11      BASE 20 all-MiniLM-L6-v2 0.7        0.122630\n",
      "59   BASE 10 nomic-embed-text-v2 0.7        0.115430\n",
      "71   BASE 50 nomic-embed-text-v2 0.7        0.114841\n",
      "65   BASE 20 nomic-embed-text-v2 0.7        0.114635\n",
      "39  BASE 10 all-distilroberta-v1 0.5        0.112869\n",
      "3       BASE 10 all-MiniLM-L6-v2 0.5        0.108598\n",
      "45  BASE 20 all-distilroberta-v1 0.5        0.107675\n",
      "51  BASE 50 all-distilroberta-v1 0.5        0.105139\n",
      "40  BASE 10 all-distilroberta-v1 0.6        0.103177\n",
      "46  BASE 20 all-distilroberta-v1 0.6        0.101332\n",
      "52  BASE 50 all-distilroberta-v1 0.6        0.100304\n",
      "9       BASE 20 all-MiniLM-L6-v2 0.5        0.095652\n"
     ]
    }
   ],
   "source": [
    "stats = stats.sort_values(by='total_f1_score', ascending=False)\n",
    "print(stats[['profile_name', 'total_f1_score']].head(20))"
   ]
  }
 ],
 "metadata": {
  "kernelspec": {
   "display_name": "Python 3",
   "language": "python",
   "name": "python3"
  },
  "language_info": {
   "codemirror_mode": {
    "name": "ipython",
    "version": 3
   },
   "file_extension": ".py",
   "mimetype": "text/x-python",
   "name": "python",
   "nbconvert_exporter": "python",
   "pygments_lexer": "ipython3",
   "version": "3.10.14"
  }
 },
 "nbformat": 4,
 "nbformat_minor": 5
}
