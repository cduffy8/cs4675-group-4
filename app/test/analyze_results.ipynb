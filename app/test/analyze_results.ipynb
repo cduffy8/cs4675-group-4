{
 "cells": [
  {
   "cell_type": "code",
   "execution_count": 1,
   "id": "9a7f5748",
   "metadata": {},
   "outputs": [
    {
     "name": "stdout",
     "output_type": "stream",
     "text": [
      "Index(['total_percision', 'total_recall', 'total_f1_score',\n",
      "       'total_reciprocal_rank', 'total_hard_percision', 'total_hard_recall',\n",
      "       'total_hard_f1_score', 'total_hard_reciprocal_rank',\n",
      "       'total_easy_percision', 'total_easy_recall', 'total_easy_f1_score',\n",
      "       'total_easy_reciprocal_rank', 'profile_name', 'index_requests', 'top_k',\n",
      "       'merge_method'],\n",
      "      dtype='object')\n"
     ]
    }
   ],
   "source": [
    "import numpy as np\n",
    "import pandas as pd\n",
    "import os\n",
    "\n",
    "# read in the stats.json file\n",
    "stats = pd.read_json('stats.json')\n",
    "\n",
    "# Flatten the 'profile' column into its own columns\n",
    "profile_df = stats['profile'].apply(pd.Series)\n",
    "\n",
    "# Merge the flattened columns back into the original dataframe\n",
    "stats = pd.concat([stats.drop(columns=['profile']), profile_df], axis=1)\n",
    "\n",
    "print(stats.columns)"
   ]
  },
  {
   "cell_type": "code",
   "execution_count": 2,
   "id": "4ea7e1a3",
   "metadata": {},
   "outputs": [
    {
     "name": "stdout",
     "output_type": "stream",
     "text": [
      "                             profile_name  total_recall\n",
      "16           BASE 50 all-MiniLM-L6-v2 0.4      0.559633\n",
      "15           BASE 50 all-MiniLM-L6-v2 0.3      0.559633\n",
      "14           BASE 50 all-MiniLM-L6-v2 0.2      0.559633\n",
      "77        BASE 50 nomic-embed-text-v2 0.2      0.550459\n",
      "79        BASE 50 nomic-embed-text-v2 0.4      0.550459\n",
      "78        BASE 50 nomic-embed-text-v2 0.3      0.550459\n",
      "17           BASE 50 all-MiniLM-L6-v2 0.5      0.541284\n",
      "56       BASE 50 all-distilroberta-v1 0.2      0.532110\n",
      "57       BASE 50 all-distilroberta-v1 0.3      0.532110\n",
      "58       BASE 50 all-distilroberta-v1 0.4      0.532110\n",
      "80        BASE 50 nomic-embed-text-v2 0.5      0.522936\n",
      "9            BASE 20 all-MiniLM-L6-v2 0.4      0.449541\n",
      "72        BASE 20 nomic-embed-text-v2 0.4      0.449541\n",
      "100  BASE 50 summary-all-MiniLM-L6-v2 0.4      0.449541\n",
      "8            BASE 20 all-MiniLM-L6-v2 0.3      0.449541\n",
      "7            BASE 20 all-MiniLM-L6-v2 0.2      0.449541\n",
      "99   BASE 50 summary-all-MiniLM-L6-v2 0.3      0.449541\n",
      "73        BASE 20 nomic-embed-text-v2 0.5      0.449541\n",
      "98   BASE 50 summary-all-MiniLM-L6-v2 0.2      0.449541\n",
      "70        BASE 20 nomic-embed-text-v2 0.2      0.449541\n"
     ]
    }
   ],
   "source": [
    "stats = stats.sort_values(by='total_recall', ascending=False)\n",
    "print(stats[['profile_name', 'total_recall']].head(20))"
   ]
  },
  {
   "cell_type": "code",
   "execution_count": 3,
   "id": "a0b4bd50",
   "metadata": {},
   "outputs": [
    {
     "name": "stdout",
     "output_type": "stream",
     "text": [
      "                       profile_name  total_reciprocal_rank\n",
      "77  BASE 50 nomic-embed-text-v2 0.2               0.306224\n",
      "79  BASE 50 nomic-embed-text-v2 0.4               0.306224\n",
      "78  BASE 50 nomic-embed-text-v2 0.3               0.306224\n",
      "80  BASE 50 nomic-embed-text-v2 0.5               0.305407\n",
      "72  BASE 20 nomic-embed-text-v2 0.4               0.302960\n",
      "71  BASE 20 nomic-embed-text-v2 0.3               0.302960\n",
      "70  BASE 20 nomic-embed-text-v2 0.2               0.302960\n",
      "73  BASE 20 nomic-embed-text-v2 0.5               0.302960\n",
      "64  BASE 10 nomic-embed-text-v2 0.3               0.300339\n",
      "66  BASE 10 nomic-embed-text-v2 0.5               0.300339\n",
      "65  BASE 10 nomic-embed-text-v2 0.4               0.300339\n",
      "63  BASE 10 nomic-embed-text-v2 0.2               0.300339\n",
      "81  BASE 50 nomic-embed-text-v2 0.6               0.285026\n",
      "74  BASE 20 nomic-embed-text-v2 0.6               0.284039\n",
      "67  BASE 10 nomic-embed-text-v2 0.6               0.281957\n",
      "15     BASE 50 all-MiniLM-L6-v2 0.3               0.266206\n",
      "14     BASE 50 all-MiniLM-L6-v2 0.2               0.266206\n",
      "16     BASE 50 all-MiniLM-L6-v2 0.4               0.266206\n",
      "17     BASE 50 all-MiniLM-L6-v2 0.5               0.265395\n",
      "9      BASE 20 all-MiniLM-L6-v2 0.4               0.262642\n"
     ]
    }
   ],
   "source": [
    "stats = stats.sort_values(by='total_reciprocal_rank', ascending=False)\n",
    "print(stats[['profile_name', 'total_reciprocal_rank']].head(20))"
   ]
  },
  {
   "cell_type": "code",
   "execution_count": 4,
   "id": "67a5b5b3",
   "metadata": {},
   "outputs": [
    {
     "name": "stdout",
     "output_type": "stream",
     "text": [
      "                                 profile_name  total_f1_score\n",
      "67            BASE 10 nomic-embed-text-v2 0.6        0.166121\n",
      "74            BASE 20 nomic-embed-text-v2 0.6        0.163189\n",
      "81            BASE 50 nomic-embed-text-v2 0.6        0.160755\n",
      "4                BASE 10 all-MiniLM-L6-v2 0.6        0.151421\n",
      "11               BASE 20 all-MiniLM-L6-v2 0.6        0.145813\n",
      "18               BASE 50 all-MiniLM-L6-v2 0.6        0.143104\n",
      "12               BASE 20 all-MiniLM-L6-v2 0.7        0.122630\n",
      "19               BASE 50 all-MiniLM-L6-v2 0.7        0.122630\n",
      "5                BASE 10 all-MiniLM-L6-v2 0.7        0.122630\n",
      "68            BASE 10 nomic-embed-text-v2 0.7        0.117098\n",
      "75            BASE 20 nomic-embed-text-v2 0.7        0.115509\n",
      "82            BASE 50 nomic-embed-text-v2 0.7        0.114481\n",
      "45           BASE 10 all-distilroberta-v1 0.5        0.112869\n",
      "3                BASE 10 all-MiniLM-L6-v2 0.5        0.110266\n",
      "151   BASE 10 summary-nomic-embed-text-v2 0.6        0.107625\n",
      "130  BASE 10 summary-all-distilroberta-v1 0.6        0.107390\n",
      "52           BASE 20 all-distilroberta-v1 0.5        0.106801\n",
      "59           BASE 50 all-distilroberta-v1 0.5        0.105498\n",
      "46           BASE 10 all-distilroberta-v1 0.6        0.103177\n",
      "158   BASE 20 summary-nomic-embed-text-v2 0.6        0.102975\n"
     ]
    }
   ],
   "source": [
    "stats = stats.sort_values(by='total_f1_score', ascending=False)\n",
    "print(stats[['profile_name', 'total_f1_score']].head(20))"
   ]
  }
 ],
 "metadata": {
  "kernelspec": {
   "display_name": "Python 3",
   "language": "python",
   "name": "python3"
  },
  "language_info": {
   "codemirror_mode": {
    "name": "ipython",
    "version": 3
   },
   "file_extension": ".py",
   "mimetype": "text/x-python",
   "name": "python",
   "nbconvert_exporter": "python",
   "pygments_lexer": "ipython3",
   "version": "3.10.14"
  }
 },
 "nbformat": 4,
 "nbformat_minor": 5
}
