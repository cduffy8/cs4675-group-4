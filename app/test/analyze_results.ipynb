{
 "cells": [
  {
   "cell_type": "code",
   "execution_count": 22,
   "id": "9a7f5748",
   "metadata": {},
   "outputs": [
    {
     "name": "stdout",
     "output_type": "stream",
     "text": [
      "Index(['total_percision', 'total_recall', 'total_f1_score',\n",
      "       'total_reciprocal_rank', 'total_hard_percision', 'total_hard_recall',\n",
      "       'total_hard_f1_score', 'total_hard_reciprocal_rank',\n",
      "       'total_easy_percision', 'total_easy_recall', 'total_easy_f1_score',\n",
      "       'total_easy_reciprocal_rank', 'total_medium_percision',\n",
      "       'total_medium_recall', 'total_medium_f1_score',\n",
      "       'total_medium_reciprocal_rank', 'profile_name', 'index_requests',\n",
      "       'top_k', 'merge_method'],\n",
      "      dtype='object')\n"
     ]
    }
   ],
   "source": [
    "import numpy as np\n",
    "import pandas as pd\n",
    "import os\n",
    "\n",
    "# read in the stats.json file\n",
    "stats = pd.read_json('stats.json')\n",
    "\n",
    "# Flatten the 'profile' column into its own columns\n",
    "profile_df = stats['profile'].apply(pd.Series)\n",
    "\n",
    "# Merge the flattened columns back into the original dataframe\n",
    "stats = pd.concat([stats.drop(columns=['profile']), profile_df], axis=1)\n",
    "\n",
    "print(stats.columns)"
   ]
  },
  {
   "cell_type": "code",
   "execution_count": 23,
   "id": "1b7628b0",
   "metadata": {},
   "outputs": [
    {
     "data": {
      "text/plain": [
       "0      3 combo-f1\n",
       "1     10 combo-f1\n",
       "2    10 combo-mrr\n",
       "3    20 combo-mrr\n",
       "Name: profile_name, dtype: object"
      ]
     },
     "execution_count": 23,
     "metadata": {},
     "output_type": "execute_result"
    }
   ],
   "source": [
    "# print all of the unique profile names\n",
    "stats[\"profile_name\"].tail(20)\n"
   ]
  },
  {
   "cell_type": "code",
   "execution_count": 24,
   "id": "4ea7e1a3",
   "metadata": {},
   "outputs": [
    {
     "name": "stdout",
     "output_type": "stream",
     "text": [
      "   profile_name  total_recall\n",
      "2  10 combo-mrr      0.671261\n",
      "3  20 combo-mrr      0.660924\n",
      "1   10 combo-f1      0.649207\n",
      "0    3 combo-f1      0.567195\n"
     ]
    }
   ],
   "source": [
    "stats = stats.sort_values(by='total_recall', ascending=False)\n",
    "print(stats[['profile_name', 'total_recall']].head(20))"
   ]
  },
  {
   "cell_type": "code",
   "execution_count": 25,
   "id": "72eb4d3b",
   "metadata": {},
   "outputs": [
    {
     "name": "stdout",
     "output_type": "stream",
     "text": [
      "   profile_name  total_reciprocal_rank\n",
      "2  10 combo-mrr               0.518959\n",
      "3  20 combo-mrr               0.508610\n",
      "1   10 combo-f1               0.507614\n",
      "0    3 combo-f1               0.492649\n"
     ]
    }
   ],
   "source": [
    "stats = stats.sort_values(by='total_reciprocal_rank', ascending=False)\n",
    "print(stats[['profile_name', 'total_reciprocal_rank']].head(20))"
   ]
  },
  {
   "cell_type": "code",
   "execution_count": 26,
   "id": "b1e533b4",
   "metadata": {},
   "outputs": [
    {
     "name": "stdout",
     "output_type": "stream",
     "text": [
      "   profile_name  total_f1_score\n",
      "0    3 combo-f1        0.283598\n",
      "1   10 combo-f1        0.146949\n",
      "3  20 combo-mrr        0.144965\n",
      "2  10 combo-mrr        0.122199\n"
     ]
    }
   ],
   "source": [
    "stats = stats.sort_values(by='total_f1_score', ascending=False)\n",
    "print(stats[['profile_name', 'total_f1_score']].head(20))"
   ]
  },
  {
   "cell_type": "code",
   "execution_count": 3,
   "id": "a0b4bd50",
   "metadata": {},
   "outputs": [
    {
     "name": "stdout",
     "output_type": "stream",
     "text": [
      "                                 profile_name  total_reciprocal_rank\n",
      "186   BASE 20 summary-nomic-embed-text-v2 0.3               0.511098\n",
      "187   BASE 20 summary-nomic-embed-text-v2 0.4               0.509132\n",
      "180   BASE 10 summary-nomic-embed-text-v2 0.3               0.507999\n",
      "181   BASE 10 summary-nomic-embed-text-v2 0.4               0.506309\n",
      "174    BASE 5 summary-nomic-embed-text-v2 0.3               0.501195\n",
      "175    BASE 5 summary-nomic-embed-text-v2 0.4               0.499816\n",
      "168    BASE 3 summary-nomic-embed-text-v2 0.3               0.490237\n",
      "169    BASE 3 summary-nomic-embed-text-v2 0.4               0.488858\n",
      "188   BASE 20 summary-nomic-embed-text-v2 0.5               0.486842\n",
      "182   BASE 10 summary-nomic-embed-text-v2 0.5               0.484902\n",
      "176    BASE 5 summary-nomic-embed-text-v2 0.5               0.480002\n",
      "170    BASE 3 summary-nomic-embed-text-v2 0.5               0.470595\n",
      "114      BASE 20 summary-all-MiniLM-L6-v2 0.3               0.460456\n",
      "90            BASE 20 nomic-embed-text-v2 0.3               0.457279\n",
      "162  BASE 20 summary-all-distilroberta-v1 0.3               0.456926\n",
      "108      BASE 10 summary-all-MiniLM-L6-v2 0.3               0.456327\n",
      "84            BASE 10 nomic-embed-text-v2 0.3               0.453865\n",
      "156  BASE 10 summary-all-distilroberta-v1 0.3               0.453321\n",
      "115      BASE 20 summary-all-MiniLM-L6-v2 0.4               0.451788\n",
      "102       BASE 5 summary-all-MiniLM-L6-v2 0.3               0.448380\n"
     ]
    }
   ],
   "source": [
    "stats = stats.sort_values(by='total_reciprocal_rank', ascending=False)\n",
    "print(stats[['profile_name', 'total_reciprocal_rank']].head(20))"
   ]
  },
  {
   "cell_type": "code",
   "execution_count": 4,
   "id": "67a5b5b3",
   "metadata": {},
   "outputs": [
    {
     "name": "stdout",
     "output_type": "stream",
     "text": [
      "                                 profile_name  total_f1_score\n",
      "67            BASE 10 nomic-embed-text-v2 0.6        0.166121\n",
      "74            BASE 20 nomic-embed-text-v2 0.6        0.163189\n",
      "81            BASE 50 nomic-embed-text-v2 0.6        0.160755\n",
      "4                BASE 10 all-MiniLM-L6-v2 0.6        0.151421\n",
      "11               BASE 20 all-MiniLM-L6-v2 0.6        0.145813\n",
      "18               BASE 50 all-MiniLM-L6-v2 0.6        0.143104\n",
      "12               BASE 20 all-MiniLM-L6-v2 0.7        0.122630\n",
      "19               BASE 50 all-MiniLM-L6-v2 0.7        0.122630\n",
      "5                BASE 10 all-MiniLM-L6-v2 0.7        0.122630\n",
      "68            BASE 10 nomic-embed-text-v2 0.7        0.117098\n",
      "75            BASE 20 nomic-embed-text-v2 0.7        0.115509\n",
      "82            BASE 50 nomic-embed-text-v2 0.7        0.114481\n",
      "45           BASE 10 all-distilroberta-v1 0.5        0.112869\n",
      "3                BASE 10 all-MiniLM-L6-v2 0.5        0.110266\n",
      "151   BASE 10 summary-nomic-embed-text-v2 0.6        0.107625\n",
      "130  BASE 10 summary-all-distilroberta-v1 0.6        0.107390\n",
      "52           BASE 20 all-distilroberta-v1 0.5        0.106801\n",
      "59           BASE 50 all-distilroberta-v1 0.5        0.105498\n",
      "46           BASE 10 all-distilroberta-v1 0.6        0.103177\n",
      "158   BASE 20 summary-nomic-embed-text-v2 0.6        0.102975\n"
     ]
    }
   ],
   "source": [
    "stats = stats.sort_values(by='total_f1_score', ascending=False)\n",
    "print(stats[['profile_name', 'total_f1_score']].head(20))"
   ]
  },
  {
   "cell_type": "code",
   "execution_count": 17,
   "id": "9ec22855",
   "metadata": {},
   "outputs": [],
   "source": [
    "mini_lm = \" all-MiniLM-L6-v2\"\n",
    "sumamry_mini_lm = \"summary-all-MiniLM-L6-v2\"\n",
    "\n",
    "roberta = \" all-distilroberta-v1\"\n",
    "summary_roberta = \"summary-all-distilroberta-v1\"\n",
    "\n",
    "nomic = \" nomic-embed-text-v2\"\n",
    "summary_nomic = \"summary-nomic-embed-text-v2\"\n",
    "\n",
    "paraphrase = \" paraphrase-MiniLM-L6-v2\"\n",
    "summary_paraphrase = \"summary-paraphrase-MiniLM-L6-v2\""
   ]
  },
  {
   "cell_type": "code",
   "execution_count": 18,
   "id": "ef1ee941",
   "metadata": {},
   "outputs": [],
   "source": [
    "mini_lm_df = stats[stats['profile_name'].str.contains(mini_lm, na=False)]\n",
    "nomic_df = stats[stats['profile_name'].str.contains(nomic, na=False)]\n",
    "paraphrase_df = stats[stats['profile_name'].str.contains(paraphrase, na=False)]\n",
    "roberta_df = stats[stats['profile_name'].str.contains(roberta, na=False)]\n",
    "summary_mini_lm_df = stats[stats['profile_name'].str.contains(sumamry_mini_lm, na=False)]\n",
    "summary_nomic_df = stats[stats['profile_name'].str.contains(summary_nomic, na=False)]\n",
    "summary_paraphrase_df = stats[stats['profile_name'].str.contains(summary_paraphrase, na=False)]\n",
    "summary_roberta_df = stats[stats['profile_name'].str.contains(summary_roberta, na=False)]"
   ]
  },
  {
   "cell_type": "code",
   "execution_count": 21,
   "id": "e77f87c2",
   "metadata": {},
   "outputs": [
    {
     "name": "stdout",
     "output_type": "stream",
     "text": [
      "Top 2 entries for mini_lm_df:\n",
      "---Top 2 for total_f1_score---\n",
      "                  profile_name  total_f1_score\n",
      "0  BASE 3 all-MiniLM-L6-v2 0.3        0.128073\n",
      "1  BASE 3 all-MiniLM-L6-v2 0.4        0.108086\n",
      "---Top 2 for total_reciprocal_rank---\n",
      "                    profile_name  total_reciprocal_rank\n",
      "18  BASE 20 all-MiniLM-L6-v2 0.3               0.215883\n",
      "12  BASE 10 all-MiniLM-L6-v2 0.3               0.212299\n",
      "--------------------------------------------------\n",
      "Top 2 entries for summary_mini_lm_df:\n",
      "---Top 2 for total_f1_score---\n",
      "                           profile_name  total_f1_score\n",
      "97  BASE 3 summary-all-MiniLM-L6-v2 0.4        0.264990\n",
      "98  BASE 3 summary-all-MiniLM-L6-v2 0.5        0.264645\n",
      "---Top 2 for total_reciprocal_rank---\n",
      "                             profile_name  total_reciprocal_rank\n",
      "114  BASE 20 summary-all-MiniLM-L6-v2 0.3               0.460456\n",
      "108  BASE 10 summary-all-MiniLM-L6-v2 0.3               0.456327\n",
      "--------------------------------------------------\n",
      "Top 2 entries for nomic_df:\n",
      "---Top 2 for total_f1_score---\n",
      "                      profile_name  total_f1_score\n",
      "73  BASE 3 nomic-embed-text-v2 0.4        0.261429\n",
      "72  BASE 3 nomic-embed-text-v2 0.3        0.260510\n",
      "---Top 2 for total_reciprocal_rank---\n",
      "                       profile_name  total_reciprocal_rank\n",
      "90  BASE 20 nomic-embed-text-v2 0.3               0.457279\n",
      "84  BASE 10 nomic-embed-text-v2 0.3               0.453865\n",
      "--------------------------------------------------\n",
      "Top 2 entries for summary_nomic_df:\n",
      "---Top 2 for total_f1_score---\n",
      "                               profile_name  total_f1_score\n",
      "171  BASE 3 summary-nomic-embed-text-v2 0.6        0.294739\n",
      "170  BASE 3 summary-nomic-embed-text-v2 0.5        0.294510\n",
      "---Top 2 for total_reciprocal_rank---\n",
      "                                profile_name  total_reciprocal_rank\n",
      "186  BASE 20 summary-nomic-embed-text-v2 0.3               0.511098\n",
      "187  BASE 20 summary-nomic-embed-text-v2 0.4               0.509132\n",
      "--------------------------------------------------\n",
      "Top 2 entries for paraphrase_df:\n",
      "---Top 2 for total_f1_score---\n",
      "                          profile_name  total_f1_score\n",
      "24  BASE 3 paraphrase-MiniLM-L6-v2 0.3        0.040202\n",
      "30  BASE 5 paraphrase-MiniLM-L6-v2 0.3        0.035217\n",
      "---Top 2 for total_reciprocal_rank---\n",
      "                           profile_name  total_reciprocal_rank\n",
      "42  BASE 20 paraphrase-MiniLM-L6-v2 0.3               0.069542\n",
      "36  BASE 10 paraphrase-MiniLM-L6-v2 0.3               0.066859\n",
      "--------------------------------------------------\n",
      "Top 2 entries for summary_paraphrase_df:\n",
      "---Top 2 for total_f1_score---\n",
      "                                   profile_name  total_f1_score\n",
      "122  BASE 3 summary-paraphrase-MiniLM-L6-v2 0.5        0.200666\n",
      "121  BASE 3 summary-paraphrase-MiniLM-L6-v2 0.4        0.196761\n",
      "---Top 2 for total_reciprocal_rank---\n",
      "                                    profile_name  total_reciprocal_rank\n",
      "138  BASE 20 summary-paraphrase-MiniLM-L6-v2 0.3               0.344100\n",
      "139  BASE 20 summary-paraphrase-MiniLM-L6-v2 0.4               0.342856\n",
      "--------------------------------------------------\n",
      "Top 2 entries for roberta_df:\n",
      "---Top 2 for total_f1_score---\n",
      "                       profile_name  total_f1_score\n",
      "48  BASE 3 all-distilroberta-v1 0.3        0.106478\n",
      "49  BASE 3 all-distilroberta-v1 0.4        0.092580\n",
      "---Top 2 for total_reciprocal_rank---\n",
      "                        profile_name  total_reciprocal_rank\n",
      "66  BASE 20 all-distilroberta-v1 0.3               0.183683\n",
      "60  BASE 10 all-distilroberta-v1 0.3               0.177921\n",
      "--------------------------------------------------\n",
      "Top 2 entries for summary_roberta_df:\n",
      "---Top 2 for total_f1_score---\n",
      "                                profile_name  total_f1_score\n",
      "146  BASE 3 summary-all-distilroberta-v1 0.5        0.274408\n",
      "145  BASE 3 summary-all-distilroberta-v1 0.4        0.264071\n",
      "---Top 2 for total_reciprocal_rank---\n",
      "                                 profile_name  total_reciprocal_rank\n",
      "162  BASE 20 summary-all-distilroberta-v1 0.3               0.456926\n",
      "156  BASE 10 summary-all-distilroberta-v1 0.3               0.453321\n",
      "--------------------------------------------------\n"
     ]
    }
   ],
   "source": [
    "# Define a function to print the top 2 entries for the specified columns\n",
    "def print_top_2(df, columns, df_name):\n",
    "    print(f\"Top 2 entries for {df_name}:\")\n",
    "    for column in columns:\n",
    "        print(f\"---Top 2 for {column}---\")\n",
    "        print(df.nlargest(2, column)[['profile_name', column]])\n",
    "    print((\"-\" * 50))\n",
    "\n",
    "# List of columns to consider\n",
    "columns_to_check = ['total_f1_score', 'total_reciprocal_rank']\n",
    "\n",
    "# Print top 2 entries for each dataframe\n",
    "print_top_2(mini_lm_df, columns_to_check, \"mini_lm_df\")\n",
    "print_top_2(summary_mini_lm_df, columns_to_check, \"summary_mini_lm_df\")\n",
    "print_top_2(nomic_df, columns_to_check, \"nomic_df\")\n",
    "print_top_2(summary_nomic_df, columns_to_check, \"summary_nomic_df\")\n",
    "print_top_2(paraphrase_df, columns_to_check, \"paraphrase_df\")\n",
    "print_top_2(summary_paraphrase_df, columns_to_check, \"summary_paraphrase_df\")\n",
    "print_top_2(roberta_df, columns_to_check, \"roberta_df\")\n",
    "print_top_2(summary_roberta_df, columns_to_check, \"summary_roberta_df\")"
   ]
  }
 ],
 "metadata": {
  "kernelspec": {
   "display_name": "Python 3",
   "language": "python",
   "name": "python3"
  },
  "language_info": {
   "codemirror_mode": {
    "name": "ipython",
    "version": 3
   },
   "file_extension": ".py",
   "mimetype": "text/x-python",
   "name": "python",
   "nbconvert_exporter": "python",
   "pygments_lexer": "ipython3",
   "version": "3.10.14"
  }
 },
 "nbformat": 4,
 "nbformat_minor": 5
}
