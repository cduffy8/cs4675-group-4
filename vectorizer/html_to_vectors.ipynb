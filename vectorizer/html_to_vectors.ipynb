{
 "cells": [
  {
   "cell_type": "markdown",
   "metadata": {},
   "source": [
    "- install sentence transformers\n",
    "- vectorize the html content from db entries\n",
    "- store the embeddings in the db\n",
    "- perform a vector search"
   ]
  }
 ],
 "metadata": {
  "kernelspec": {
   "display_name": "cs4675_env",
   "language": "python",
   "name": "python3"
  },
  "language_info": {
   "name": "python",
   "version": "3.12.2"
  }
 },
 "nbformat": 4,
 "nbformat_minor": 2
}
